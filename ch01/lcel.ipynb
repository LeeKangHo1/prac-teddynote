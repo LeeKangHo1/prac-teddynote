{
 "cells": [
  {
   "cell_type": "code",
   "execution_count": 1,
   "id": "0e9c45fe",
   "metadata": {},
   "outputs": [
    {
     "data": {
      "text/plain": [
       "True"
      ]
     },
     "execution_count": 1,
     "metadata": {},
     "output_type": "execute_result"
    }
   ],
   "source": [
    "# API KEY를 환경변수로 관리하기 위한 설정 파일\n",
    "from dotenv import load_dotenv\n",
    "\n",
    "# API KEY 정보로드\n",
    "load_dotenv()\n"
   ]
  },
  {
   "cell_type": "code",
   "execution_count": 2,
   "id": "6166d18b",
   "metadata": {},
   "outputs": [],
   "source": [
    "from langchain_openai import ChatOpenAI\n",
    "from langchain_core.prompts import PromptTemplate\n",
    "from langchain_core.output_parsers import StrOutputParser\n",
    "\n",
    "# ChatOpenAI 모델을 인스턴스화합니다.\n",
    "model = ChatOpenAI(model=\"gpt-4o-mini\")\n",
    "# 주어진 토픽에 대한 농담을 요청하는 프롬프트 템플릿을 생성합니다.\n",
    "prompt = PromptTemplate.from_template(\"{topic} 에 대하여 3문장으로 설명해줘.\")\n",
    "# 프롬프트와 모델을 연결하여 대화 체인을 생성합니다.\n",
    "chain = prompt | model | StrOutputParser()\n"
   ]
  },
  {
   "cell_type": "code",
   "execution_count": 3,
   "id": "0486ff3f",
   "metadata": {},
   "outputs": [
    {
     "name": "stdout",
     "output_type": "stream",
     "text": [
      "멀티모달(Multimodal)은 다양한 형태의 데이터를 통합하여 분석하고 처리하는 접근 방식을 의미합니다. 예를 들어, 텍스트, 이미지, 오디오와 같은 서로 다른 모드의 정보를 결합하여 더 풍부한 이해를 도모합니다. 이는 인공지능, 머신러닝 및 자연어 처리 분야에서 특히 유용하게 활용되며, 사용자 경험을 향상시키는 데 기여합니다."
     ]
    }
   ],
   "source": [
    "# chain.stream 메서드를 사용하여 '멀티모달' 토픽에 대한 스트림을 생성하고 반복합니다.\n",
    "for token in chain.stream({\"topic\": \"멀티모달\"}):\n",
    "    # 스트림에서 받은 데이터의 내용을 출력합니다. 줄바꿈 없이 이어서 출력하고, 버퍼를 즉시 비웁니다.\n",
    "    print(token, end=\"\", flush=True)\n"
   ]
  },
  {
   "cell_type": "code",
   "execution_count": 4,
   "id": "1f2818a4",
   "metadata": {},
   "outputs": [
    {
     "data": {
      "text/plain": [
       "['ChatGPT는 OpenAI에서 개발한 언어 모델로, 자연어 처리를 기반으로 다양한 질문에 대한 답변을 생성합니다. 이 모델은 대량의 텍스트 데이터를 학습하여 인간과 유사한 방식으로 대화하고 정보를 제공할 수 있도록 설계되었습니다. 사용자는 일상적인 질문부터 전문적인 주제에 이르기까지 다양한 대화 내용을 나눌 수 있습니다.',\n",
       " '인스타그램은 사용자들이 사진과 동영상을 공유할 수 있는 인기 있는 소셜 미디어 플랫폼입니다. 사용자는 다양한 필터와 편집 도구를 이용해 콘텐츠를 꾸밀 수 있으며, 해시태그를 통해 다른 사용자들과 소통할 수 있습니다. 또한, Stories와 Reels 기능을 통해 짧은 시간 동안 소식을 전하거나 창의적인 콘텐츠를 제작할 수 있는 기회를 제공합니다.']"
      ]
     },
     "execution_count": 4,
     "metadata": {},
     "output_type": "execute_result"
    }
   ],
   "source": [
    "# 주어진 토픽 리스트를 batch 처리하는 함수 호출\n",
    "chain.batch([{\"topic\": \"ChatGPT\"}, {\"topic\": \"Instagram\"}])"
   ]
  },
  {
   "cell_type": "markdown",
   "id": "13a1a37a",
   "metadata": {},
   "source": []
  },
  {
   "cell_type": "code",
   "execution_count": 5,
   "id": "9f059fbc",
   "metadata": {},
   "outputs": [
    {
     "name": "stdout",
     "output_type": "stream",
     "text": [
      "YouTube는 2005년에 설립된 비디오 공유 플랫폼으로, 사용자가 동영상을 업로드, 공유 및 시청할 수 있도록 지원합니다. 다양한 콘텐츠가 제공되며, 교육, 오락,뉴스 등 여러 분야에서 인기 있는 영상들이 포함되어 있습니다. 또한, 사용자들은 구독, 좋아요, 댓글 기능을 통해 소통하며, 크리에이터는 광고 수익, 후원 및 상품 판매를 통해 수익을 창출할 수 있습니다."
     ]
    }
   ],
   "source": [
    "# 비동기 스트림을 사용하여 'YouTube' 토픽의 메시지를 처리합니다.\n",
    "async for token in chain.astream({\"topic\": \"YouTube\"}):\n",
    "    # 메시지 내용을 출력합니다. 줄바꿈 없이 바로 출력하고 버퍼를 비웁니다.\n",
    "    print(token, end=\"\", flush=True)"
   ]
  }
 ],
 "metadata": {
  "kernelspec": {
   "display_name": "venv",
   "language": "python",
   "name": "python3"
  },
  "language_info": {
   "codemirror_mode": {
    "name": "ipython",
    "version": 3
   },
   "file_extension": ".py",
   "mimetype": "text/x-python",
   "name": "python",
   "nbconvert_exporter": "python",
   "pygments_lexer": "ipython3",
   "version": "3.11.9"
  }
 },
 "nbformat": 4,
 "nbformat_minor": 5
}
